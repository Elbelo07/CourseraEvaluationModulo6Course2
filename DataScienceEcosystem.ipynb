{
 "cells": [
  {
   "cell_type": "markdown",
   "id": "398a3ff9-ecf6-4b3b-9834-878397d488e6",
   "metadata": {},
   "source": [
    "# Data Science Tools and Ecosystem"
   ]
  },
  {
   "cell_type": "markdown",
   "id": "14f7c0a2-303a-45d9-9436-fd2a6a06568e",
   "metadata": {},
   "source": [
    "In this notebook, Data Science Tools and Ecosystem are summarized."
   ]
  },
  {
   "cell_type": "markdown",
   "id": "9ca40480-d18c-4fa0-a4fa-4f47e7981a51",
   "metadata": {},
   "source": [
    "## Author\n",
    "Lourenço Martins O'Connor Shirley Belo"
   ]
  },
  {
   "cell_type": "markdown",
   "id": "96da9cd6-c8d2-4369-8693-aa9a3e52408e",
   "metadata": {},
   "source": [
    "__Objectives:__\n",
    "- List of popular languages for data science\n",
    "- List of most used libraries by data scientist\n",
    "- Arithmetic expressions\n",
    "- Minutes to hours convertion"
   ]
  },
  {
   "cell_type": "markdown",
   "id": "11d7b654-1158-49ce-914a-a2a94187ecda",
   "metadata": {},
   "source": [
    "Some of the popular languages that Data Scientists use are:\n",
    "1. Python\n",
    "2. R Language\n",
    "3. SQL"
   ]
  },
  {
   "cell_type": "markdown",
   "id": "cc950a66-abd9-4d35-9900-aa31861376af",
   "metadata": {},
   "source": [
    "Some of the commonly used libraries used by Data Scientist include:\n",
    "\n",
    "1. Pandas\n",
    "2. Numpy\n",
    "3. Matplotlib\n",
    "4. Seaborn\n",
    "5. Scikit-learn\n",
    "6. Tensor Flow\n"
   ]
  },
  {
   "cell_type": "markdown",
   "id": "6cb68aea-d6ee-44c7-a1d8-6c4e1dbab3f8",
   "metadata": {},
   "source": [
    "| Data Science Tools |\n",
    "|--------------------|\n",
    "|Jupyter Notebook    |\n",
    "| Visual studio      |\n",
    "|Anaconda            |"
   ]
  },
  {
   "cell_type": "markdown",
   "id": "3eecba93-e869-48c3-ae79-fadf992a16a1",
   "metadata": {},
   "source": [
    "### Below are a few examples of evaluating arithmetic expressions in Python"
   ]
  },
  {
   "cell_type": "code",
   "execution_count": 10,
   "id": "c5c001c5-652d-4dd8-9688-113e32a3361d",
   "metadata": {},
   "outputs": [
    {
     "data": {
      "text/plain": [
       "17"
      ]
     },
     "execution_count": 10,
     "metadata": {},
     "output_type": "execute_result"
    }
   ],
   "source": [
    "#This is a simple arithmetic expression to mutiply then add integers\n",
    "(3*4)+5"
   ]
  },
  {
   "cell_type": "code",
   "execution_count": 12,
   "id": "f1504c70-486d-4f0e-8195-6fa485f76717",
   "metadata": {},
   "outputs": [
    {
     "data": {
      "text/plain": [
       "3.3333333333333335"
      ]
     },
     "execution_count": 12,
     "metadata": {},
     "output_type": "execute_result"
    }
   ],
   "source": [
    "#This will convert 200 minutes to hours by dividing by 60\n",
    "200/60"
   ]
  },
  {
   "cell_type": "code",
   "execution_count": null,
   "id": "65a248e3-b0d9-481b-b1f3-f779fa6c9281",
   "metadata": {},
   "outputs": [],
   "source": []
  }
 ],
 "metadata": {
  "kernelspec": {
   "display_name": "Python [conda env:base] *",
   "language": "python",
   "name": "conda-base-py"
  },
  "language_info": {
   "codemirror_mode": {
    "name": "ipython",
    "version": 3
   },
   "file_extension": ".py",
   "mimetype": "text/x-python",
   "name": "python",
   "nbconvert_exporter": "python",
   "pygments_lexer": "ipython3",
   "version": "3.12.7"
  }
 },
 "nbformat": 4,
 "nbformat_minor": 5
}
